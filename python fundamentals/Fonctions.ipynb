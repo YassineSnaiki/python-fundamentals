{
 "cells": [
  {
   "cell_type": "markdown",
   "id": "21dfa672",
   "metadata": {},
   "source": [
    "<center>\n",
    "<H1><span style=\"text-align: center; font-weight: bold; color: #746bb3ff;\">Les Fonctions</span></H1>\n",
    "</center>"
   ]
  },
  {
   "cell_type": "markdown",
   "id": "4280dbf3",
   "metadata": {},
   "source": [
    "<H3><span style=\"font-weight: bold ; color: #19b7f1ff\">Les ressources: </span></H3> \n",
    "\n",
    "\n",
    "* [Python Functions](https://realpython.com/defining-your-own-python-function/#abstraction)\n",
    "* [Documentation Officielle de Python](https://docs.python.org/fr/3/tutorial/controlflow.html#defining-functions)"
   ]
  },
  {
   "cell_type": "markdown",
   "id": "e83d584f",
   "metadata": {},
   "source": [
    "<H3><span style=\"font-weight: bold; color: #1a8bcdff;\">Challenge 1 : Présentation personnalisé</span></H3>\n",
    "\n",
    "1. <span style=\"font-weight: bold; color: #e56922ff;\">Objectif</span> : </br>\n",
    "Réutiliser un programme existant (Challenge 2) en le structurant dans une fonction nommée horaire_sup.\n",
    "\n",
    "2. <span style=\"font-weight: bold; color: #e56922ff;\">Travail à faire</span>:</br>\n",
    "Réécris le programme du Challenge 2 dans une fonction appelée horaire_sup."
   ]
  },
  {
   "cell_type": "code",
   "execution_count": null,
   "id": "b3439d44",
   "metadata": {},
   "outputs": [],
   "source": [
    "#  Écrivez du code Python ici\n",
    "name = input(\"Enter your name: \")\n",
    "hours = int(input(\"How many hours you worked: \"))\n",
    "salary = float(input(\"Enter your hourly salary: \"))\n",
    "\n",
    "def horaire_sup(name, salary, hours):\n",
    "    if hours <= 40: \n",
    "        total = hours * salary\n",
    "    else:\n",
    "        total = salary * 40 + (hours - 40) * salary * 1.5\n",
    "    return f\"Hi {name}, your total salary is {total}\"\n",
    "\n",
    "# Call the function and print result\n",
    "print(horaire_sup(name, salary, hours))\n",
    "\n"
   ]
  },
  {
   "cell_type": "markdown",
   "id": "77631c7d",
   "metadata": {},
   "source": [
    "<H3><span style=\"font-weight: bold; color: #1a8bcdff;\">Challenge 2 : Fonction calculation() – somme et différence</span></H3>\n",
    "\n",
    "1. <span style=\"font-weight: bold; color: #e56922ff;\">Objectif</span> : </br>\n",
    "Apprendre à écrire une fonction avec plusieurs paramètres et plusieurs valeurs de retour.\n",
    "\n",
    "2. <span style=\"font-weight: bold; color: #e56922ff;\">Travail à faire</span>:</br>\n",
    "Écris une fonction calculation() qui prend deux arguments et calcule leur somme ainsi que leur différence. La fonction doit ensuite retourner les deux résultats dans une seule instruction return."
   ]
  },
  {
   "cell_type": "code",
   "execution_count": null,
   "id": "323a8b4a",
   "metadata": {},
   "outputs": [],
   "source": [
    "#  Écrivez du code Python ici\n",
    "def calculation(a, b):\n",
    "    somme = a + b\n",
    "    difference = a - b\n",
    "    return somme, difference"
   ]
  },
  {
   "cell_type": "markdown",
   "id": "c2081304",
   "metadata": {},
   "source": [
    "<H3><span style=\"font-weight: bold; color: #1a8bcdff;\">Challenge 3 : Mini-projets algorithmiques regroupés</span></H3>\n",
    "\n",
    "1. <span style=\"font-weight: bold; color: #e56922ff;\">Objectif</span> : </br>\n",
    "Développer plusieurs petites fonctions indépendantes, chacune ciblant une compétence précise\n",
    "\n",
    "2. <span style=\"font-weight: bold; color: #e56922ff;\">Travail à faire</span>:</br>\n",
    "- Demander à l’utilisateur de saisir un nombre entier n et afficher la factorielle de ce nombre (n!).\n",
    "- Demander à l’utilisateur un nombre entier m et afficher sa table de multiplication de 1 à 10.\n",
    "- Demander à l’utilisateur un nombre entier L et indiquer s’il s’agit d’un carré parfait.\n",
    "- Demander une chaîne de caractères à l’utilisateur, puis afficher chaque caractère un par un.\n",
    "- Demander une phrase à l’utilisateur et afficher le mot le plus long de cette phrase.\n",
    "- Demander une chaîne de caractères Ch et afficher le nombre d’occurrences de chaque caractère. Exemple : Pour Ch = “artificial intelligence developer” \n",
    "- Le programme doit afficher : Le caractère \"i\" figure 5 fois dans la chaîne Ch."
   ]
  },
  {
   "cell_type": "code",
   "execution_count": null,
   "id": "a06adf5c",
   "metadata": {},
   "outputs": [
    {
     "name": "stdout",
     "output_type": "stream",
     "text": [
      "Table de multiplication de 4 :\n",
      "4 x 1 = 4\n",
      "4 x 2 = 8\n",
      "4 x 3 = 12\n",
      "4 x 4 = 16\n",
      "4 x 5 = 20\n",
      "4 x 6 = 24\n",
      "4 x 7 = 28\n",
      "4 x 8 = 32\n",
      "4 x 9 = 36\n",
      "4 x 10 = 40\n"
     ]
    }
   ],
   "source": [
    "#  Écrivez du code Python ici\n",
    "def fact() :\n",
    "    while True :\n",
    "        try : \n",
    "            n = int(input('enter an integer'))\n",
    "            break\n",
    "        except ValueError :\n",
    "            print('you entered an incorrect integer')\n",
    "    f = n\n",
    "    while n != 1 :\n",
    "        f *= n-1\n",
    "        n -= 1\n",
    "    return f\n",
    "\n",
    "def multiplications():\n",
    "    m = int(input(\"enter an integer : \"))\n",
    "    print(f\"table of multiplications of {m} :\")\n",
    "    for i in range(1, 11):\n",
    "        print(f\"{m} x {i} = {m * i}\")\n",
    "\n",
    "import math\n",
    "\n",
    "def perfectSquare():\n",
    "    L = int(input(\"enter an integer : \"))\n",
    "    racine = math.isqrt(L) \n",
    "    if racine * racine == L:\n",
    "        print(f\"{L} is a perfect square.\")\n",
    "    else:\n",
    "        print(f\"{L} is not a perfect square.\")\n",
    "\n",
    "def displayChars():\n",
    "    text = input(\"enter a string : \")\n",
    "    for c in text:\n",
    "        print(c)\n",
    "\n",
    "def longestWord():\n",
    "    sentence = input(\"Enter a sentence: \")\n",
    "    words = sentence.split()\n",
    "    if words: \n",
    "        longest = max(words, key=len)\n",
    "        print(\"The longest word is:\", longest)\n",
    "    else:\n",
    "        print(\"You did not enter any sentence.\")\n",
    "\n",
    "\n",
    "def charOccurrences():\n",
    "    ch = input(\"Enter a string: \")\n",
    "    if not ch:\n",
    "        print(\"You did not enter any string.\")\n",
    "        return\n",
    "\n",
    "    counted = []\n",
    "\n",
    "    for char in ch:\n",
    "        if char != \" \" and char not in counted:\n",
    "            count = ch.count(char)\n",
    "            print(f'The character \"{char}\" appears {count} time{\"s\" if count > 1 else \"\"} in the string.')\n",
    "            counted.append(char)\n",
    "\n",
    "\n",
    "\n"
   ]
  }
 ],
 "metadata": {
  "kernelspec": {
   "display_name": "Python 3",
   "language": "python",
   "name": "python3"
  },
  "language_info": {
   "codemirror_mode": {
    "name": "ipython",
    "version": 3
   },
   "file_extension": ".py",
   "mimetype": "text/x-python",
   "name": "python",
   "nbconvert_exporter": "python",
   "pygments_lexer": "ipython3",
   "version": "3.13.7"
  }
 },
 "nbformat": 4,
 "nbformat_minor": 5
}
