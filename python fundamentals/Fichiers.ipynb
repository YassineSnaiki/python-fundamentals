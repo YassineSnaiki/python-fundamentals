{
 "cells": [
  {
   "cell_type": "markdown",
   "id": "784cad32",
   "metadata": {},
   "source": [
    "\n",
    "<center>\n",
    "<H1><span style=\"text-align: center; font-weight: bold; color: #746bb3ff;\">Gestion de Fichiers</span></H1>\n",
    "</center>"
   ]
  },
  {
   "cell_type": "markdown",
   "id": "00451f59",
   "metadata": {},
   "source": [
    "<H3><span style=\"font-weight: bold ; color: #19b7f1ff\">Les ressources: </span></H3> \n",
    "\n",
    "* [Documentation Officielle de Python](https://docs.python.org/fr/3/tutorial/inputoutput.html#reading-and-writing-files)\n",
    "* [Reading and Writing Files in Python](https://realpython.com/read-write-files-python/)"
   ]
  },
  {
   "cell_type": "markdown",
   "id": "3d2ea4b9",
   "metadata": {},
   "source": [
    "<H3><span style=\"font-weight: bold; color: #1a8bcdff;\">Challenge 1 : Extraction et Traitement de Fichiers</span></H3>\n",
    "\n",
    "1. <span style=\"font-weight: bold; color: #e56922ff;\">Objectif</span> : </br>\n",
    "Lire plusieurs fichiers texte et combiner leur contenu.\n",
    "\n",
    "2. <span style=\"font-weight: bold; color: #e56922ff;\">Travail à faire</span>:</br>\n",
    "* Utilisez os.listdir() pour lister tous les fichiers texte dans un répertoire.\n",
    "* Utilisez open() pour lire chaque fichier et extraire son contenu.\n",
    "* Combinez le contenu de tous les fichiers en un seul texte."
   ]
  },
  {
   "cell_type": "code",
   "execution_count": null,
   "id": "21b6f2cb",
   "metadata": {},
   "outputs": [
    {
     "name": "stdout",
     "output_type": "stream",
     "text": [
      "file111111111111111\n",
      "file22222222222222\n",
      "\n"
     ]
    }
   ],
   "source": [
    "#  Écrivez du code Python ici\n",
    "import os\n",
    "\n",
    "repertoire = \".\"  \n",
    "\n",
    "text_files = [f for f in os.listdir(repertoire) if f.endswith(\".txt\")]\n",
    "combined = \"\"\n",
    "\n",
    "for f in text_files:\n",
    "    path = os.path.join(repertoire, f)\n",
    "    with open(path, \"r\", encoding=\"utf-8\") as f:\n",
    "        content = f.read()\n",
    "        combined += content + \"\\n\"  \n",
    "\n",
    "print(combined)\n"
   ]
  },
  {
   "cell_type": "markdown",
   "id": "5240bc4e",
   "metadata": {},
   "source": [
    "<H3><span style=\"font-weight: bold; color: #1a8bcdff;\">Challenge 2 : Recherche de Fichiers</span></H3>\n",
    "\n",
    "1. <span style=\"font-weight: bold; color: #e56922ff;\">Objectif</span> : </br>\n",
    "Vérifier l'existence de fichiers spécifiques et les traiter.\n",
    "\n",
    "2. <span style=\"font-weight: bold; color: #e56922ff;\">Travail à faire</span>:</br>\n",
    "* Utilisez os.path.exists() pour vérifier si des fichiers de configuration (config.yaml) existent dans un répertoire donné.\n",
    "* Si le fichier existe, ouvrez-le et affichez son contenu."
   ]
  },
  {
   "cell_type": "code",
   "execution_count": null,
   "id": "ac91db32",
   "metadata": {},
   "outputs": [
    {
     "name": "stdout",
     "output_type": "stream",
     "text": [
      "True\n",
      "True\n",
      "True\n",
      "yml\n"
     ]
    }
   ],
   "source": [
    "import os\n",
    "\n",
    "print(os.path.exists('./fill.yaml'))\n",
    "print(os.path.exists('./ff.yaml'))\n",
    "with open('./fill.yaml','r') as f :\n",
    "    content = f.read()\n",
    "    print(content)\n"
   ]
  },
  {
   "cell_type": "markdown",
   "id": "c9850348",
   "metadata": {},
   "source": [
    "<H3><span style=\"font-weight: bold; color: #1a8bcdff;\">Challenge 4 : Création de Répertoires</span></H3>\n",
    "\n",
    "1. <span style=\"font-weight: bold; color: #e56922ff;\">Objectif</span> : </br>\n",
    "Créer une structure de répertoires à partir d'une liste de noms.\n",
    "\n",
    "2. <span style=\"font-weight: bold; color: #e56922ff;\">Travail à faire</span>:</br>\n",
    "* Utilisez os.mkdir() pour créer un répertoire principal.\n",
    "* Créez plusieurs sous-répertoires à l'intérieur du répertoire principal en utilisant une liste de noms."
   ]
  },
  {
   "cell_type": "code",
   "execution_count": 7,
   "id": "07f28968",
   "metadata": {},
   "outputs": [
    {
     "name": "stdout",
     "output_type": "stream",
     "text": [
      "'principal' has been created.\n",
      "sub_path 'Documents' is created.\n",
      "sub_path 'Images' is created.\n",
      "sub_path 'Videos' is created.\n",
      "sub_path 'Music' is created.\n"
     ]
    }
   ],
   "source": [
    "import os\n",
    "\n",
    "\n",
    "principal = \"principal\"\n",
    "\n",
    "if not os.path.exists(principal):\n",
    "    os.mkdir(principal)\n",
    "    print(f\"'{principal}' has been created.\")\n",
    "else:\n",
    "    print(f\"'{principal}' already exists.\")\n",
    "\n",
    "\n",
    "sub_reps = [\"Documents\", \"Images\", \"Videos\", \"Music\"]\n",
    "\n",
    "# 3. Créer les sous-répertoires\n",
    "for name in sub_reps:\n",
    "    sub_path = os.path.join(principal, name)\n",
    "    if not os.path.exists(sub_path):\n",
    "        os.mkdir(sub_path)\n",
    "        print(f\"sub_path '{name}' is created.\")\n",
    "    else:\n",
    "        print(f\"sub_path '{name}' already exists.\")\n"
   ]
  },
  {
   "cell_type": "markdown",
   "id": "70d5c0f1",
   "metadata": {},
   "source": [
    "<H3><span style=\"font-weight: bold; color: #1a8bcdff;\">Challenge 5 : Copie Sélective de Fichiers</span></H3>\n",
    "\n",
    "1. <span style=\"font-weight: bold; color: #e56922ff;\">Objectif</span> : </br>\n",
    "Copier des fichiers spécifiques d'un répertoire à un autre.\n",
    "\n",
    "2. <span style=\"font-weight: bold; color: #e56922ff;\">Travail à faire</span>:</br>\n",
    "* Utilisez os.listdir() pour lister tous les fichiers dans un répertoire source.\n",
    "* Utilisez shutil.copy() pour copier uniquement les fichiers avec une extension spécifique (par exemple, .csv) vers un répertoire de destination."
   ]
  },
  {
   "cell_type": "code",
   "execution_count": 9,
   "id": "d723fec4",
   "metadata": {},
   "outputs": [
    {
     "name": "stdout",
     "output_type": "stream",
     "text": [
      "Files to copy: ['.\\\\Dictionnaires_Tuples.ipynb', '.\\\\ff.yaml', '.\\\\Fichiers.ipynb', '.\\\\file1.txt', '.\\\\file2.txt', '.\\\\fill.yaml', '.\\\\Fonctions.ipynb', '.\\\\jjj.ff', '.\\\\Les_Bases.ipynb', '.\\\\Listes.ipynb']\n",
      "Copied: .\\Dictionnaires_Tuples.ipynb -> dest\n",
      "Copied: .\\ff.yaml -> dest\n",
      "Copied: .\\Fichiers.ipynb -> dest\n",
      "Copied: .\\file1.txt -> dest\n",
      "Copied: .\\file2.txt -> dest\n",
      "Copied: .\\fill.yaml -> dest\n",
      "Copied: .\\Fonctions.ipynb -> dest\n",
      "Copied: .\\jjj.ff -> dest\n",
      "Copied: .\\Les_Bases.ipynb -> dest\n",
      "Copied: .\\Listes.ipynb -> dest\n"
     ]
    }
   ],
   "source": [
    "#  Écrivez du code Python ici\n",
    "import os\n",
    "import shutil\n",
    "\n",
    "rep = '.'\n",
    "dest = 'dest'\n",
    "\n",
    "# Get only files (ignore folders)\n",
    "files = [os.path.join(rep, f) for f in os.listdir(rep) if os.path.isfile(os.path.join(rep, f))]\n",
    "print(\"Files to copy:\", files)\n",
    "\n",
    "# Create destination folder if it doesn't exist\n",
    "os.makedirs(dest, exist_ok=True)\n",
    "\n",
    "# Copy each file\n",
    "for file in files:\n",
    "    shutil.copy(file, dest)\n",
    "    print(f\"Copied: {file} -> {dest}\")\n",
    "\n",
    "\n",
    "\n"
   ]
  },
  {
   "cell_type": "markdown",
   "id": "860b9d43",
   "metadata": {},
   "source": [
    "<H3><span style=\"font-weight: bold; color: #1a8bcdff;\">Challenge 6 : Écriture de Fichiers</span></H3>\n",
    "\n",
    "1. <span style=\"font-weight: bold; color: #e56922ff;\">Objectif</span> : </br>\n",
    "Écrire du contenu dans un fichier texte.\n",
    "\n",
    "2. <span style=\"font-weight: bold; color: #e56922ff;\">Travail à faire</span>:</br>\n",
    "* Utilisez open() en mode écriture pour créer un nouveau fichier texte.\n",
    "* Écrivez des lignes de texte dans le fichier en utilisant une boucle.\n",
    "* Fermez le fichier et vérifiez que les données ont été correctement enregistrées."
   ]
  },
  {
   "cell_type": "code",
   "execution_count": null,
   "id": "bacbe689",
   "metadata": {},
   "outputs": [],
   "source": [
    "# Challenge 6 : Écriture de Fichiers\n",
    "\n",
    "\n",
    "filename = \"example.txt\"\n",
    "with open(filename, \"w\", encoding=\"utf-8\") as f:\n",
    "   \n",
    "    for i in range(1, 6):\n",
    "        f.write(f\"Ligne numéro {i}\\n\")\n",
    "\n",
    "print(f\"Le fichier '{filename}' a été créé et rempli avec succès.\")\n",
    "\n",
    "with open(filename, \"r\", encoding=\"utf-8\") as f:\n",
    "    contenu = f.read()\n",
    "    print(\"\\n--- Contenu du fichier ---\")\n",
    "    print(contenu)\n",
    "\n"
   ]
  },
  {
   "cell_type": "markdown",
   "id": "27cd8680",
   "metadata": {},
   "source": []
  }
 ],
 "metadata": {
  "kernelspec": {
   "display_name": "Python 3",
   "language": "python",
   "name": "python3"
  },
  "language_info": {
   "codemirror_mode": {
    "name": "ipython",
    "version": 3
   },
   "file_extension": ".py",
   "mimetype": "text/x-python",
   "name": "python",
   "nbconvert_exporter": "python",
   "pygments_lexer": "ipython3",
   "version": "3.13.7"
  }
 },
 "nbformat": 4,
 "nbformat_minor": 5
}
